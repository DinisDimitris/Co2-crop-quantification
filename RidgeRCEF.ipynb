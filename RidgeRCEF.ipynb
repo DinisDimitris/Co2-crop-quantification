{
 "cells": [
  {
   "cell_type": "code",
   "execution_count": 34,
   "id": "bfa61b70-a853-4b91-8a7a-3eaca7cd4b0b",
   "metadata": {
    "tags": []
   },
   "outputs": [],
   "source": [
    "import pandas as pd\n",
    "import matplotlib.pyplot as plt\n",
    "from sklearn.feature_selection import RFECV\n",
    "from sklearn.model_selection import RepeatedKFold\n",
    "from sklearn.linear_model import RidgeCV\n",
    "import os\n",
    "import warnings\n",
    "warnings.filterwarnings('ignore')"
   ]
  },
  {
   "cell_type": "markdown",
   "id": "37cae7f4-dde7-4e05-9729-06ed3ce906fd",
   "metadata": {
    "tags": []
   },
   "source": [
    "### A Recursive Feature Elimination (RFE) model with automatic tuning of the number of features selected with cross-validation."
   ]
  },
  {
   "cell_type": "code",
   "execution_count": 35,
   "id": "0a7ce965-eeae-40db-a467-2bd0aa2158ab",
   "metadata": {},
   "outputs": [],
   "source": [
    "file_names = ['flux_soc_out', 'atmosphere_out', 'n_flux_out', 'p_flux_out', 'soil_c_out', 'soil_water_out', 'surf_water_out', 'temp_out']\n",
    "\n",
    "dirs = ['warm_temp_maize_soybean_irrigated', 'warm_temp_maize-soybean_dryland', 'cool_temp_maize_soybean']\n",
    "target = 'CO2_FLUX'\n",
    "target_soil = ['ECO_CO2_FLUX', 'SOIL_CO2_FLUX']"
   ]
  },
  {
   "cell_type": "code",
   "execution_count": 36,
   "id": "2f729e88-b9ea-4946-93ee-8f45da9ef55a",
   "metadata": {
    "tags": []
   },
   "outputs": [],
   "source": [
    "def load_datasets(dirs: list) -> dict:\n",
    "    datasets = {}\n",
    "    for dr in dirs:\n",
    "        path = 'datasets/' + dr + '/daily_data_merged'\n",
    "        flux_soc = pd.read_csv(os.path.join(path, file_names[0] + '.csv'))\n",
    "        atm = pd.read_csv(os.path.join(path, file_names[1] + '.csv'))\n",
    "        nitrogen = pd.read_csv(os.path.join(path, file_names[2] + '.csv'))\n",
    "        phosp = pd.read_csv(os.path.join(path, file_names[3] + '.csv'))\n",
    "        soil_carbon = pd.read_csv(os.path.join(path, file_names[4] + '.csv'))\n",
    "        soil_water = pd.read_csv(os.path.join(path, file_names[5] + '.csv'))\n",
    "        surf_water = pd.read_csv(os.path.join(path, file_names[6] + '.csv'))\n",
    "        temp = pd.read_csv(os.path.join(path, file_names[7] + '.csv'))\n",
    "\n",
    "        flux_soc = flux_soc.drop(flux_soc.columns[0], axis=1)\n",
    "        atm = atm.drop(atm.columns[0], axis=1)\n",
    "        nitrogen = nitrogen.drop(nitrogen.columns[0], axis=1)\n",
    "        phosp = phosp.drop(phosp.columns[0], axis=1)\n",
    "        soil_carbon = soil_carbon.drop(soil_carbon.columns[0], axis=1)\n",
    "        soil_water = soil_water.drop(soil_water.columns[0], axis=1)\n",
    "        surf_water = surf_water.drop(surf_water.columns[0], axis=1)\n",
    "        temp = temp.drop(temp.columns[0], axis=1)\n",
    "\n",
    "        csv_list = [flux_soc, atm, nitrogen, phosp, soil_carbon, soil_water, surf_water, temp]\n",
    "\n",
    "        data_dict = {}\n",
    "        for i in range (len(csv_list)):\n",
    "            data_dict[file_names[i]] = csv_list[i]\n",
    "\n",
    "        datasets[dr] = data_dict\n",
    "\n",
    "    return datasets\n",
    "\n",
    "datasets = load_datasets(dirs)"
   ]
  },
  {
   "cell_type": "code",
   "execution_count": 37,
   "id": "f3948e78-cb65-4c8e-977f-a3d23ef71f1f",
   "metadata": {
    "tags": []
   },
   "outputs": [],
   "source": [
    "def rename_dupes(suffix: str, df: pd.DataFrame, dupes: list) -> pd.DataFrame:\n",
    "    for col in df.columns:\n",
    "        if col in dupes:\n",
    "            df.rename(columns={col: col + suffix}, inplace=True)\n",
    "    return df\n",
    "# turn all csv's to one dataframe\n",
    "\n",
    "def to_pd(df: dict, handle_dupes: bool) -> pd.DataFrame:\n",
    "    dup_cols = ['ICE_13','WTR_5','SEDIMENT','WTR_8','WTR_7','ACTV_LYR','WTR_TBL','WTR_6','WTR_4','ICE_7','WTR_3','WTR_2','WTR_1','SNOWPACK','DISCHG','RUNOFF','WTR_9','WTR_10','WTR_11','WTR_12','WTR_13','SURF_WTR','ICE_1','ICE_2','ICE_3','ICE_4','ICE_5','SURF_ICE','ICE_6','ICE_12','ICE_11','ICE_10','ICE_9','PRECN','WIND','ICE_8','O2_FLUX','CH4_FLUX']\n",
    "    x = pd.DataFrame()\n",
    "    for file_name in df:\n",
    "        cur = df[file_name]\n",
    "        \n",
    "        if handle_dupes:\n",
    "            dupes = [col for col in cur.columns if col in dup_cols]\n",
    "            \n",
    "            if file_name == 'soil_water_out' or file_name == 'flux_soc_out':\n",
    "                cur = rename_dupes('_SOIL', cur, dupes)\n",
    "            elif file_name == 'surf_water_out':\n",
    "                cur = rename_dupes('_SURF', cur, dupes)\n",
    "            elif file_name == 'atmosphere_out':\n",
    "                cur = rename_dupes('_ATM', cur, dupes)\n",
    "            \n",
    "        x = pd.concat([x, df[file_name]], axis = 1)\n",
    "    x = x.drop(['DATE', 'unnamed.1'], axis=1)\n",
    "\n",
    "    return x\n",
    "\n",
    "x = to_pd(datasets['warm_temp_maize_soybean_irrigated'], True)\n",
    "y = x[target].copy()\n",
    "x = x.drop(target,axis = 1)"
   ]
  },
  {
   "cell_type": "code",
   "execution_count": null,
   "id": "118aa4c3-7e72-4143-8e07-104381bda394",
   "metadata": {
    "tags": []
   },
   "outputs": [],
   "source": [
    "min_features_to_select = 1  # Minimum number of features to consider\n",
    "\n",
    "lmbdas = [i/2 for i in range(1,51)]\n",
    "cv = RepeatedKFold(n_splits=10, n_repeats=1, random_state=1)\n",
    "clf = RidgeCV(alphas=lmbdas, cv=cv, scoring='neg_mean_squared_error')\n",
    "\n",
    "rfecv = RFECV(\n",
    "    estimator=clf,\n",
    "    step=1,\n",
    "    cv=cv,\n",
    "    scoring=\"accuracy\",\n",
    "    min_features_to_select=min_features_to_select,\n",
    "    n_jobs=2,\n",
    ")\n",
    "rfecv.fit(x, y)\n",
    "\n",
    "print(f\"Optimal number of features: {rfecv.n_features_}\")"
   ]
  },
  {
   "cell_type": "code",
   "execution_count": null,
   "id": "6c2af5fd-1ec2-405d-9ca3-d1b5eba5e17d",
   "metadata": {},
   "outputs": [],
   "source": [
    "n_scores = len(rfecv.cv_results_[\"mean_test_score\"])\n",
    "plt.figure()\n",
    "plt.xlabel(\"Number of features selected\")\n",
    "plt.ylabel(\"Mean test accuracy\")\n",
    "plt.errorbar(\n",
    "    range(min_features_to_select, n_scores + min_features_to_select),\n",
    "    rfecv.cv_results_[\"mean_test_score\"],\n",
    "    yerr=rfecv.cv_results_[\"std_test_score\"],\n",
    ")\n",
    "plt.title(\"Recursive Feature Elimination \\nwith correlated features\")\n",
    "plt.show()"
   ]
  }
 ],
 "metadata": {
  "kernelspec": {
   "display_name": "Python 3 (ipykernel)",
   "language": "python",
   "name": "python3"
  },
  "language_info": {
   "codemirror_mode": {
    "name": "ipython",
    "version": 3
   },
   "file_extension": ".py",
   "mimetype": "text/x-python",
   "name": "python",
   "nbconvert_exporter": "python",
   "pygments_lexer": "ipython3",
   "version": "3.9.16"
  }
 },
 "nbformat": 4,
 "nbformat_minor": 5
}
