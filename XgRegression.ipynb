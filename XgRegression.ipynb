{
 "cells": [
  {
   "cell_type": "code",
   "execution_count": 133,
   "id": "96ccd5cc-6a2a-44fb-b27b-17ace4b87d62",
   "metadata": {},
   "outputs": [],
   "source": [
    "import pandas as pd\n",
    "from pandas_ods_reader import read_ods\n",
    "import xgboost as xg\n",
    "from sklearn.model_selection import train_test_split\n",
    "from sklearn.metrics import mean_squared_error as MSE\n",
    "import numpy as np\n",
    "import matplotlib.pyplot as plt\n",
    "import os\n",
    "from functools import reduce"
   ]
  },
  {
   "cell_type": "code",
   "execution_count": 134,
   "id": "22fab6d8-f922-434a-bdf1-5bbb37bff328",
   "metadata": {
    "tags": []
   },
   "outputs": [],
   "source": [
    "target = 'SOIL_CO2_FLUX'"
   ]
  },
  {
   "cell_type": "code",
   "execution_count": 135,
   "id": "7e13b1bc-5bdb-4ca6-91de-70d8998492e1",
   "metadata": {
    "tags": []
   },
   "outputs": [],
   "source": [
    "# loads all data sets into a dict\n",
    "def load_datasets(dirs: list) -> dict:\n",
    "    file_names = ['flux_soc_out', 'atmosphere_out', 'n_flux_out', 'p_flux_out', 'soil_c_out', 'soil_water_out', 'surf_water_out', 'temp_out']\n",
    "    datasets = {}\n",
    "    for dr in dirs:\n",
    "        path = 'datasets/' + dr + '/daily_data_merged'\n",
    "        flux_soc = pd.read_csv(os.path.join(path, file_names[0] + '.csv'))\n",
    "        atm = pd.read_csv(os.path.join(path, file_names[1] + '.csv'))\n",
    "        nitrogen = pd.read_csv(os.path.join(path, file_names[2] + '.csv'))\n",
    "        phosp = pd.read_csv(os.path.join(path, file_names[3] + '.csv'))\n",
    "        soil_carbon = pd.read_csv(os.path.join(path, file_names[4] + '.csv'))\n",
    "        soil_water = pd.read_csv(os.path.join(path, file_names[5] + '.csv'))\n",
    "        surf_water = pd.read_csv(os.path.join(path, file_names[6] + '.csv'))\n",
    "        temp = pd.read_csv(os.path.join(path, file_names[7] + '.csv'))\n",
    "\n",
    "        flux_soc = flux_soc.drop(flux_soc.columns[0], axis=1)\n",
    "        atm = atm.drop(atm.columns[0], axis=1)\n",
    "        nitrogen = nitrogen.drop(nitrogen.columns[0], axis=1)\n",
    "        phosp = phosp.drop(phosp.columns[0], axis=1)\n",
    "        soil_carbon = soil_carbon.drop(soil_carbon.columns[0], axis=1)\n",
    "        soil_water = soil_water.drop(soil_water.columns[0], axis=1)\n",
    "        surf_water = surf_water.drop(surf_water.columns[0], axis=1)\n",
    "        temp = temp.drop(temp.columns[0], axis=1)\n",
    "\n",
    "        csv_list = [flux_soc, atm, nitrogen, phosp, soil_carbon, soil_water, surf_water, temp]\n",
    "\n",
    "        data_dict = {}\n",
    "        for i in range (len(csv_list)):\n",
    "            data_dict[file_names[i]] = csv_list[i]\n",
    "\n",
    "        datasets[dr] = data_dict\n",
    "\n",
    "    return datasets\n",
    "\n",
    "dirs = ['warm_temp_maize_soybean_irrigated', 'warm_temp_maize-soybean_dryland', 'cool_temp_maize_soybean']\n",
    "datasets = load_datasets(dirs)"
   ]
  },
  {
   "cell_type": "code",
   "execution_count": 136,
   "id": "45ca3fd0-c0a6-43e9-a1e2-b98441862d41",
   "metadata": {
    "tags": []
   },
   "outputs": [],
   "source": [
    "def rename_dupes(suffix: str, df: pd.DataFrame, dupes: list) -> pd.DataFrame:\n",
    "    for col in df.columns:\n",
    "        if col in dupes:\n",
    "            df.rename(columns={col: col + suffix}, inplace=True)\n",
    "    return df\n",
    "# turn all csv's to one dataframe\n",
    "\n",
    "def to_pd(df: dict, handle_dupes: bool) -> pd.DataFrame:\n",
    "    dup_cols = ['ICE_13','WTR_5','SEDIMENT','WTR_8','WTR_7','ACTV_LYR','WTR_TBL','WTR_6','WTR_4','ICE_7','WTR_3','WTR_2','WTR_1','SNOWPACK','DISCHG','RUNOFF','WTR_9','WTR_10','WTR_11','WTR_12','WTR_13','SURF_WTR','ICE_1','ICE_2','ICE_3','ICE_4','ICE_5','SURF_ICE','ICE_6','ICE_12','ICE_11','ICE_10','ICE_9','PRECN','WIND','ICE_8','O2_FLUX','CH4_FLUX']\n",
    "    x = pd.DataFrame()\n",
    "    for file_name in df:\n",
    "        cur = df[file_name]\n",
    "        \n",
    "        if handle_dupes:\n",
    "            dupes = [col for col in cur.columns if col in dup_cols]\n",
    "            \n",
    "            if file_name == 'soil_water_out' or file_name == 'flux_soc_out':\n",
    "                cur = rename_dupes('_SOIL', cur, dupes)\n",
    "            elif file_name == 'surf_water_out':\n",
    "                cur = rename_dupes('_SURF', cur, dupes)\n",
    "            elif file_name == 'atmosphere_out':\n",
    "                cur = rename_dupes('_ATM', cur, dupes)\n",
    "            \n",
    "        x = pd.concat([x, df[file_name]], axis = 1)\n",
    "    x = x.drop(['DATE', 'unnamed.1'], axis=1)\n",
    "\n",
    "    return x\n",
    "\n",
    "x = to_pd(datasets['warm_temp_maize_soybean_irrigated'], True)\n",
    "y = x[target].copy()\n",
    "x = x.drop(target,axis = 1)"
   ]
  },
  {
   "cell_type": "markdown",
   "id": "fbe98686-07d2-4636-9854-243c7a32e589",
   "metadata": {},
   "source": [
    "CO2_FLUX LINEAR CORRELATED FEATURES"
   ]
  },
  {
   "cell_type": "code",
   "execution_count": null,
   "id": "1d5b4840-3f8b-4883-a197-23f65a44cd5b",
   "metadata": {
    "tags": []
   },
   "outputs": [],
   "source": [
    "irrigated_df = datasets['warm_temp_maize_soybean_irrigated']\n",
    "features = {\n",
    "'ECO_NPP' : irrigated_df['flux_soc_out']['ECO_NPP'],\n",
    "'ECO_GPP' : irrigated_df['flux_soc_out']['ECO_GPP'],\n",
    "'PRECN' : irrigated_df['soil_water_out']['PRECN'] ,\n",
    "'SUB_DOP_FLX' : irrigated_df['p_flux_out']['SUB_DOP_FLX'] ,\n",
    "'ECO_RA' : irrigated_df['flux_soc_out']['ECO_RA'] ,\n",
    "'N2_FLUX' : irrigated_df['n_flux_out']['N2_FLUX'] ,\n",
    "'N2O_FLUX': irrigated_df['n_flux_out']['N2O_FLUX'] ,\n",
    "}\n",
    "\n",
    "x = pd.DataFrame(features)\n",
    "y = irrigated_df['flux_soc_out']['CO2_FLUX']"
   ]
  },
  {
   "cell_type": "markdown",
   "id": "bac1e42c-1f54-41c7-9d5a-80a4bde7fde2",
   "metadata": {
    "tags": []
   },
   "source": [
    "NBP LINEAR CORRELATED FEATURES"
   ]
  },
  {
   "cell_type": "code",
   "execution_count": 115,
   "id": "603f12ec-abe3-4fea-b2a6-ec3f3414ca46",
   "metadata": {
    "tags": []
   },
   "outputs": [],
   "source": [
    "nbp_feats = {\n",
    "'ECO_NPP': irrigated_df['flux_soc_out']['ECO_NPP'],       \n",
    "'ECO_GPP': irrigated_df['flux_soc_out']['ECO_GPP'],         \n",
    "'NET_N_MIN': irrigated_df['n_flux_out']['NET_N_MIN'],      \n",
    "'PRECN': irrigated_df['n_flux_out']['NET_N_MIN'],             \n",
    "'NET_P_MIN': irrigated_df['p_flux_out']['NET_P_MIN'],      \n",
    "'SUB_DOP_FLX': irrigated_df['p_flux_out']['SUB_DOP_FLX'],     \n",
    "'ET': irrigated_df['soil_water_out']['ET'],\n",
    "'DISCHG_SOIL': irrigated_df['soil_water_out']['DISCHG'],    \n",
    "'DISCHG_SURF': irrigated_df['surf_water_out']['DISCHG'],    \n",
    "'FERTZR_P':  irrigated_df['p_flux_out']['FERTZR_P'],          \n",
    "'FERTZR_N':   irrigated_df['n_flux_out']['FERTZR_N'],           \n",
    "'H2_FLUX':  irrigated_df['flux_soc_out']['H2_FLUX'],             \n",
    "'NET_PL_EXCH_N':  irrigated_df['n_flux_out']['NET_PL_EXCH_N'],           \n",
    "'N2O_FLUX': irrigated_df['n_flux_out']['N2O_FLUX'],\n",
    "'N2_FLUX': irrigated_df['n_flux_out']['N2_FLUX'],\n",
    "'ECO_RA': irrigated_df['flux_soc_out']['ECO_RA']\n",
    "}\n",
    "\n",
    "x = pd.DataFrame(nbp_feats)\n",
    "y = irrigated_df['flux_soc_out']['NBP']"
   ]
  },
  {
   "cell_type": "code",
   "execution_count": 137,
   "id": "2fc54066-8fdb-408a-a2ec-17a454a63bd6",
   "metadata": {
    "tags": []
   },
   "outputs": [],
   "source": [
    "X_train, X_test, y_train, y_test = train_test_split(\n",
    "   x, y, test_size=0.33, random_state=42)"
   ]
  },
  {
   "cell_type": "code",
   "execution_count": 138,
   "id": "60fa48f7-52ab-4115-bdea-9159e4743df6",
   "metadata": {
    "tags": []
   },
   "outputs": [],
   "source": [
    "# Instantiation\n",
    "xgb_r = xg.XGBRegressor(objective ='reg:squarederror',\n",
    "                  n_estimators = 10, seed = 123)"
   ]
  },
  {
   "cell_type": "code",
   "execution_count": 139,
   "id": "acaf271d-9038-4cc1-b661-2e378783de1e",
   "metadata": {
    "tags": []
   },
   "outputs": [
    {
     "data": {
      "text/html": [
       "<style>#sk-container-id-6 {color: black;background-color: white;}#sk-container-id-6 pre{padding: 0;}#sk-container-id-6 div.sk-toggleable {background-color: white;}#sk-container-id-6 label.sk-toggleable__label {cursor: pointer;display: block;width: 100%;margin-bottom: 0;padding: 0.3em;box-sizing: border-box;text-align: center;}#sk-container-id-6 label.sk-toggleable__label-arrow:before {content: \"▸\";float: left;margin-right: 0.25em;color: #696969;}#sk-container-id-6 label.sk-toggleable__label-arrow:hover:before {color: black;}#sk-container-id-6 div.sk-estimator:hover label.sk-toggleable__label-arrow:before {color: black;}#sk-container-id-6 div.sk-toggleable__content {max-height: 0;max-width: 0;overflow: hidden;text-align: left;background-color: #f0f8ff;}#sk-container-id-6 div.sk-toggleable__content pre {margin: 0.2em;color: black;border-radius: 0.25em;background-color: #f0f8ff;}#sk-container-id-6 input.sk-toggleable__control:checked~div.sk-toggleable__content {max-height: 200px;max-width: 100%;overflow: auto;}#sk-container-id-6 input.sk-toggleable__control:checked~label.sk-toggleable__label-arrow:before {content: \"▾\";}#sk-container-id-6 div.sk-estimator input.sk-toggleable__control:checked~label.sk-toggleable__label {background-color: #d4ebff;}#sk-container-id-6 div.sk-label input.sk-toggleable__control:checked~label.sk-toggleable__label {background-color: #d4ebff;}#sk-container-id-6 input.sk-hidden--visually {border: 0;clip: rect(1px 1px 1px 1px);clip: rect(1px, 1px, 1px, 1px);height: 1px;margin: -1px;overflow: hidden;padding: 0;position: absolute;width: 1px;}#sk-container-id-6 div.sk-estimator {font-family: monospace;background-color: #f0f8ff;border: 1px dotted black;border-radius: 0.25em;box-sizing: border-box;margin-bottom: 0.5em;}#sk-container-id-6 div.sk-estimator:hover {background-color: #d4ebff;}#sk-container-id-6 div.sk-parallel-item::after {content: \"\";width: 100%;border-bottom: 1px solid gray;flex-grow: 1;}#sk-container-id-6 div.sk-label:hover label.sk-toggleable__label {background-color: #d4ebff;}#sk-container-id-6 div.sk-serial::before {content: \"\";position: absolute;border-left: 1px solid gray;box-sizing: border-box;top: 0;bottom: 0;left: 50%;z-index: 0;}#sk-container-id-6 div.sk-serial {display: flex;flex-direction: column;align-items: center;background-color: white;padding-right: 0.2em;padding-left: 0.2em;position: relative;}#sk-container-id-6 div.sk-item {position: relative;z-index: 1;}#sk-container-id-6 div.sk-parallel {display: flex;align-items: stretch;justify-content: center;background-color: white;position: relative;}#sk-container-id-6 div.sk-item::before, #sk-container-id-6 div.sk-parallel-item::before {content: \"\";position: absolute;border-left: 1px solid gray;box-sizing: border-box;top: 0;bottom: 0;left: 50%;z-index: -1;}#sk-container-id-6 div.sk-parallel-item {display: flex;flex-direction: column;z-index: 1;position: relative;background-color: white;}#sk-container-id-6 div.sk-parallel-item:first-child::after {align-self: flex-end;width: 50%;}#sk-container-id-6 div.sk-parallel-item:last-child::after {align-self: flex-start;width: 50%;}#sk-container-id-6 div.sk-parallel-item:only-child::after {width: 0;}#sk-container-id-6 div.sk-dashed-wrapped {border: 1px dashed gray;margin: 0 0.4em 0.5em 0.4em;box-sizing: border-box;padding-bottom: 0.4em;background-color: white;}#sk-container-id-6 div.sk-label label {font-family: monospace;font-weight: bold;display: inline-block;line-height: 1.2em;}#sk-container-id-6 div.sk-label-container {text-align: center;}#sk-container-id-6 div.sk-container {/* jupyter's `normalize.less` sets `[hidden] { display: none; }` but bootstrap.min.css set `[hidden] { display: none !important; }` so we also need the `!important` here to be able to override the default hidden behavior on the sphinx rendered scikit-learn.org. See: https://github.com/scikit-learn/scikit-learn/issues/21755 */display: inline-block !important;position: relative;}#sk-container-id-6 div.sk-text-repr-fallback {display: none;}</style><div id=\"sk-container-id-6\" class=\"sk-top-container\"><div class=\"sk-text-repr-fallback\"><pre>XGBRegressor(base_score=None, booster=None, callbacks=None,\n",
       "             colsample_bylevel=None, colsample_bynode=None,\n",
       "             colsample_bytree=None, early_stopping_rounds=None,\n",
       "             enable_categorical=False, eval_metric=None, feature_types=None,\n",
       "             gamma=None, gpu_id=None, grow_policy=None, importance_type=None,\n",
       "             interaction_constraints=None, learning_rate=None, max_bin=None,\n",
       "             max_cat_threshold=None, max_cat_to_onehot=None,\n",
       "             max_delta_step=None, max_depth=None, max_leaves=None,\n",
       "             min_child_weight=None, missing=nan, monotone_constraints=None,\n",
       "             n_estimators=10, n_jobs=None, num_parallel_tree=None,\n",
       "             predictor=None, random_state=None, ...)</pre><b>In a Jupyter environment, please rerun this cell to show the HTML representation or trust the notebook. <br />On GitHub, the HTML representation is unable to render, please try loading this page with nbviewer.org.</b></div><div class=\"sk-container\" hidden><div class=\"sk-item\"><div class=\"sk-estimator sk-toggleable\"><input class=\"sk-toggleable__control sk-hidden--visually\" id=\"sk-estimator-id-6\" type=\"checkbox\" checked><label for=\"sk-estimator-id-6\" class=\"sk-toggleable__label sk-toggleable__label-arrow\">XGBRegressor</label><div class=\"sk-toggleable__content\"><pre>XGBRegressor(base_score=None, booster=None, callbacks=None,\n",
       "             colsample_bylevel=None, colsample_bynode=None,\n",
       "             colsample_bytree=None, early_stopping_rounds=None,\n",
       "             enable_categorical=False, eval_metric=None, feature_types=None,\n",
       "             gamma=None, gpu_id=None, grow_policy=None, importance_type=None,\n",
       "             interaction_constraints=None, learning_rate=None, max_bin=None,\n",
       "             max_cat_threshold=None, max_cat_to_onehot=None,\n",
       "             max_delta_step=None, max_depth=None, max_leaves=None,\n",
       "             min_child_weight=None, missing=nan, monotone_constraints=None,\n",
       "             n_estimators=10, n_jobs=None, num_parallel_tree=None,\n",
       "             predictor=None, random_state=None, ...)</pre></div></div></div></div></div>"
      ],
      "text/plain": [
       "XGBRegressor(base_score=None, booster=None, callbacks=None,\n",
       "             colsample_bylevel=None, colsample_bynode=None,\n",
       "             colsample_bytree=None, early_stopping_rounds=None,\n",
       "             enable_categorical=False, eval_metric=None, feature_types=None,\n",
       "             gamma=None, gpu_id=None, grow_policy=None, importance_type=None,\n",
       "             interaction_constraints=None, learning_rate=None, max_bin=None,\n",
       "             max_cat_threshold=None, max_cat_to_onehot=None,\n",
       "             max_delta_step=None, max_depth=None, max_leaves=None,\n",
       "             min_child_weight=None, missing=nan, monotone_constraints=None,\n",
       "             n_estimators=10, n_jobs=None, num_parallel_tree=None,\n",
       "             predictor=None, random_state=None, ...)"
      ]
     },
     "execution_count": 139,
     "metadata": {},
     "output_type": "execute_result"
    }
   ],
   "source": [
    "# Fitting the model\n",
    "xgb_r.fit(X_train, y_train)"
   ]
  },
  {
   "cell_type": "code",
   "execution_count": 140,
   "id": "11bf7ea7-0781-4a39-9280-38813d18af0d",
   "metadata": {},
   "outputs": [],
   "source": [
    "# Predict the model\n",
    "pred = xgb_r.predict(X_test)\n",
    "  "
   ]
  },
  {
   "cell_type": "code",
   "execution_count": 141,
   "id": "307c5689-ece8-4051-8aec-d328023d9e8b",
   "metadata": {},
   "outputs": [
    {
     "name": "stdout",
     "output_type": "stream",
     "text": [
      "RMSE :  0.351103\n"
     ]
    },
    {
     "data": {
      "text/plain": [
       "<matplotlib.collections.PathCollection at 0x7fb00da9e190>"
      ]
     },
     "execution_count": 141,
     "metadata": {},
     "output_type": "execute_result"
    },
    {
     "data": {
      "image/png": "[encoded data removed]",
      "text/plain": [
       "<Figure size 640x480 with 1 Axes>"
      ]
     },
     "metadata": {},
     "output_type": "display_data"
    }
   ],
   "source": [
    "# RMSE Computation\n",
    "rmse = np.sqrt(MSE(y_test, pred))\n",
    "print(\"RMSE : % f\" %(rmse))\n",
    "plt.scatter(y_test, pred)"
   ]
  },
  {
   "cell_type": "code",
   "execution_count": 142,
   "id": "4e64ffb8-cfb0-4f9d-8965-8d833c902523",
   "metadata": {},
   "outputs": [],
   "source": [
    "importances = pd.DataFrame({'GINI': xgb_r.feature_importances_}, index=x.columns).sort_values(by='GINI', ascending=False)"
   ]
  },
  {
   "cell_type": "code",
   "execution_count": 143,
   "id": "b9213173-e2fc-4596-b854-80d0d16df3ef",
   "metadata": {
    "tags": []
   },
   "outputs": [],
   "source": [
    "g = importances[importances > 0].dropna()"
   ]
  },
  {
   "cell_type": "code",
   "execution_count": 144,
   "id": "3faf9790-c72e-4dcd-81f6-d778e971bec9",
   "metadata": {
    "tags": []
   },
   "outputs": [
    {
     "data": {
      "text/html": [
       "<div>\n",
       "<style scoped>\n",
       "    .dataframe tbody tr th:only-of-type {\n",
       "        vertical-align: middle;\n",
       "    }\n",
       "\n",
       "    .dataframe tbody tr th {\n",
       "        vertical-align: top;\n",
       "    }\n",
       "\n",
       "    .dataframe thead th {\n",
       "        text-align: right;\n",
       "    }\n",
       "</style>\n",
       "<table border=\"1\" class=\"dataframe\">\n",
       "  <thead>\n",
       "    <tr style=\"text-align: right;\">\n",
       "      <th></th>\n",
       "      <th>GINI</th>\n",
       "    </tr>\n",
       "  </thead>\n",
       "  <tbody>\n",
       "    <tr>\n",
       "      <th>O2_FLUX</th>\n",
       "      <td>0.426107</td>\n",
       "    </tr>\n",
       "    <tr>\n",
       "      <th>TMAX_SOIL_3</th>\n",
       "      <td>0.151590</td>\n",
       "    </tr>\n",
       "    <tr>\n",
       "      <th>SUB_DOP_FLX</th>\n",
       "      <td>0.094021</td>\n",
       "    </tr>\n",
       "    <tr>\n",
       "      <th>CO2_LIT</th>\n",
       "      <td>0.021613</td>\n",
       "    </tr>\n",
       "    <tr>\n",
       "      <th>CH4_1</th>\n",
       "      <td>0.019768</td>\n",
       "    </tr>\n",
       "    <tr>\n",
       "      <th>...</th>\n",
       "      <td>...</td>\n",
       "    </tr>\n",
       "    <tr>\n",
       "      <th>SOL_RADN</th>\n",
       "      <td>0.000043</td>\n",
       "    </tr>\n",
       "    <tr>\n",
       "      <th>SOC_12</th>\n",
       "      <td>0.000037</td>\n",
       "    </tr>\n",
       "    <tr>\n",
       "      <th>CH4_FLUX_SOIL</th>\n",
       "      <td>0.000023</td>\n",
       "    </tr>\n",
       "    <tr>\n",
       "      <th>WIND_ATM</th>\n",
       "      <td>0.000022</td>\n",
       "    </tr>\n",
       "    <tr>\n",
       "      <th>O2_5</th>\n",
       "      <td>0.000005</td>\n",
       "    </tr>\n",
       "  </tbody>\n",
       "</table>\n",
       "<p>126 rows × 1 columns</p>\n",
       "</div>"
      ],
      "text/plain": [
       "                   GINI\n",
       "O2_FLUX        0.426107\n",
       "TMAX_SOIL_3    0.151590\n",
       "SUB_DOP_FLX    0.094021\n",
       "CO2_LIT        0.021613\n",
       "CH4_1          0.019768\n",
       "...                 ...\n",
       "SOL_RADN       0.000043\n",
       "SOC_12         0.000037\n",
       "CH4_FLUX_SOIL  0.000023\n",
       "WIND_ATM       0.000022\n",
       "O2_5           0.000005\n",
       "\n",
       "[126 rows x 1 columns]"
      ]
     },
     "execution_count": 144,
     "metadata": {},
     "output_type": "execute_result"
    }
   ],
   "source": [
    "g"
   ]
  },
  {
   "cell_type": "code",
   "execution_count": 145,
   "id": "37e6c9f0-13a0-414f-a7e8-3c7666e98c80",
   "metadata": {
    "tags": []
   },
   "outputs": [],
   "source": [
    "os.makedirs('feature_analysis/xgboost', exist_ok=True)  \n",
    "g.to_csv('feature_analysis/xgboost/FeaturesImportance' + target + '.csv')  "
   ]
  },
  {
   "cell_type": "code",
   "execution_count": null,
   "id": "d38b2285-2017-455d-814f-bc7387d89b45",
   "metadata": {},
   "outputs": [],
   "source": []
  }
 ],
 "metadata": {
  "kernelspec": {
   "display_name": "Python 3 (ipykernel)",
   "language": "python",
   "name": "python3"
  },
  "language_info": {
   "codemirror_mode": {
    "name": "ipython",
    "version": 3
   },
   "file_extension": ".py",
   "mimetype": "text/x-python",
   "name": "python",
   "nbconvert_exporter": "python",
   "pygments_lexer": "ipython3",
   "version": "3.9.16"
  }
 },
 "nbformat": 4,
 "nbformat_minor": 5
}
