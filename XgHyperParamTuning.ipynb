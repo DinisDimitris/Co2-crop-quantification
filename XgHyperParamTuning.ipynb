{
 "cells": [
  {
   "cell_type": "code",
   "execution_count": 19,
   "id": "96ccd5cc-6a2a-44fb-b27b-17ace4b87d62",
   "metadata": {},
   "outputs": [],
   "source": [
    "import pandas as pd\n",
    "from pandas_ods_reader import read_ods\n",
    "import xgboost as xg\n",
    "from sklearn.model_selection import train_test_split\n",
    "from sklearn.metrics import mean_squared_error as MSE\n",
    "import numpy as np\n",
    "import matplotlib.pyplot as plt\n",
    "import os\n",
    "from functools import reduce\n",
    "from sklearn.model_selection import RandomizedSearchCV, GridSearchCV\n",
    "from sklearn.metrics import roc_auc_score\n",
    "from sklearn.model_selection import KFold"
   ]
  },
  {
   "cell_type": "code",
   "execution_count": 4,
   "id": "7e13b1bc-5bdb-4ca6-91de-70d8998492e1",
   "metadata": {
    "tags": []
   },
   "outputs": [],
   "source": [
    "def load_datasets(dirs: list) -> dict:\n",
    "    file_names = ['flux_soc_out', 'atmosphere_out', 'n_flux_out', 'p_flux_out', 'soil_c_out', 'soil_water_out', 'surf_water_out', 'temp_out']\n",
    "    datasets = {}\n",
    "    for dr in dirs:\n",
    "        path = 'datasets/' + dr + '/daily_data_merged'\n",
    "        flux_soc = pd.read_csv(os.path.join(path, file_names[0] + '.csv'))\n",
    "        atm = pd.read_csv(os.path.join(path, file_names[1] + '.csv'))\n",
    "        nitrogen = pd.read_csv(os.path.join(path, file_names[2] + '.csv'))\n",
    "        phosp = pd.read_csv(os.path.join(path, file_names[3] + '.csv'))\n",
    "        soil_carbon = pd.read_csv(os.path.join(path, file_names[4] + '.csv'))\n",
    "        soil_water = pd.read_csv(os.path.join(path, file_names[5] + '.csv'))\n",
    "        surf_water = pd.read_csv(os.path.join(path, file_names[6] + '.csv'))\n",
    "        temp = pd.read_csv(os.path.join(path, file_names[7] + '.csv'))\n",
    "\n",
    "        flux_soc = flux_soc.drop(flux_soc.columns[0], axis=1)\n",
    "        atm = atm.drop(atm.columns[0], axis=1)\n",
    "        nitrogen = nitrogen.drop(nitrogen.columns[0], axis=1)\n",
    "        phosp = phosp.drop(phosp.columns[0], axis=1)\n",
    "        soil_carbon = soil_carbon.drop(soil_carbon.columns[0], axis=1)\n",
    "        soil_water = soil_water.drop(soil_water.columns[0], axis=1)\n",
    "        surf_water = surf_water.drop(surf_water.columns[0], axis=1)\n",
    "        temp = temp.drop(temp.columns[0], axis=1)\n",
    "\n",
    "        csv_list = [flux_soc, atm, nitrogen, phosp, soil_carbon, soil_water, surf_water, temp]\n",
    "\n",
    "        data_dict = {}\n",
    "        for i in range (len(csv_list)):\n",
    "            data_dict[file_names[i]] = csv_list[i]\n",
    "\n",
    "        datasets[dr] = data_dict\n",
    "\n",
    "    return datasets\n",
    "\n",
    "dirs = ['warm_temp_maize_soybean_irrigated', 'warm_temp_maize-soybean_dryland', 'cool_temp_maize_soybean']\n",
    "datasets = load_datasets(dirs)"
   ]
  },
  {
   "cell_type": "code",
   "execution_count": 5,
   "id": "439589e5-6587-4ed2-be9c-cc2525292725",
   "metadata": {
    "tags": []
   },
   "outputs": [],
   "source": [
    "irrigated_df = datasets['warm_temp_maize_soybean_irrigated']\n",
    "x = pd.DataFrame()\n",
    "for key in irrigated_df:\n",
    "       x = x + irrigated_df[key]\n",
    "        \n",
    "y = irrigated_df['flux_soc_out']['CO2_FLUX']\n",
    "x = x.drop(['CO2_FLUX' ,'DATE', 'unnamed.1'], axis=1)"
   ]
  },
  {
   "cell_type": "markdown",
   "id": "fbe98686-07d2-4636-9854-243c7a32e589",
   "metadata": {},
   "source": [
    "CO2_FLUX LINEAR CORRELATED FEATURES"
   ]
  },
  {
   "cell_type": "code",
   "execution_count": 6,
   "id": "1d5b4840-3f8b-4883-a197-23f65a44cd5b",
   "metadata": {
    "tags": []
   },
   "outputs": [],
   "source": [
    "features = {\n",
    "'ECO_NPP' : irrigated_df['flux_soc_out']['ECO_NPP'],\n",
    "'ECO_GPP' : irrigated_df['flux_soc_out']['ECO_GPP'],\n",
    "'NET_N_MIN' : irrigated_df['n_flux_out']['NET_N_MIN'],\n",
    "'PRECN' : irrigated_df['soil_water_out']['PRECN'] ,\n",
    "'NET_P_MIN' : irrigated_df['p_flux_out']['NET_P_MIN'] ,\n",
    "'SUB_DOP_FLX' : irrigated_df['p_flux_out']['SUB_DOP_FLX'] ,\n",
    "'ECO_RA' : irrigated_df['flux_soc_out']['ECO_RA'] ,\n",
    "'N2_FLUX' : irrigated_df['n_flux_out']['N2_FLUX'] ,\n",
    "'N2O_FLUX': irrigated_df['n_flux_out']['N2O_FLUX'] ,\n",
    "}\n",
    "\n",
    "x = pd.DataFrame(features)\n",
    "y = irrigated_df['flux_soc_out']['CO2_FLUX']"
   ]
  },
  {
   "cell_type": "markdown",
   "id": "bac1e42c-1f54-41c7-9d5a-80a4bde7fde2",
   "metadata": {
    "tags": []
   },
   "source": [
    "NBP LINEAR CORRELATED FEATURES"
   ]
  },
  {
   "cell_type": "code",
   "execution_count": 115,
   "id": "603f12ec-abe3-4fea-b2a6-ec3f3414ca46",
   "metadata": {
    "tags": []
   },
   "outputs": [],
   "source": [
    "nbp_feats = {\n",
    "'ECO_NPP': irrigated_df['flux_soc_out']['ECO_NPP'],       \n",
    "'ECO_GPP': irrigated_df['flux_soc_out']['ECO_GPP'],         \n",
    "'NET_N_MIN': irrigated_df['n_flux_out']['NET_N_MIN'],      \n",
    "'PRECN': irrigated_df['n_flux_out']['NET_N_MIN'],             \n",
    "'NET_P_MIN': irrigated_df['p_flux_out']['NET_P_MIN'],      \n",
    "'SUB_DOP_FLX': irrigated_df['p_flux_out']['SUB_DOP_FLX'],     \n",
    "'ET': irrigated_df['soil_water_out']['ET'],\n",
    "'DISCHG_SOIL': irrigated_df['soil_water_out']['DISCHG'],    \n",
    "'DISCHG_SURF': irrigated_df['surf_water_out']['DISCHG'],    \n",
    "'FERTZR_P':  irrigated_df['p_flux_out']['FERTZR_P'],          \n",
    "'FERTZR_N':   irrigated_df['n_flux_out']['FERTZR_N'],           \n",
    "'H2_FLUX':  irrigated_df['flux_soc_out']['H2_FLUX'],             \n",
    "'NET_PL_EXCH_N':  irrigated_df['n_flux_out']['NET_PL_EXCH_N'],           \n",
    "'N2O_FLUX': irrigated_df['n_flux_out']['N2O_FLUX'],\n",
    "'N2_FLUX': irrigated_df['n_flux_out']['N2_FLUX'],\n",
    "'ECO_RA': irrigated_df['flux_soc_out']['ECO_RA']\n",
    "}\n",
    "\n",
    "x = pd.DataFrame(nbp_feats)\n",
    "y = irrigated_df['flux_soc_out']['NBP']"
   ]
  },
  {
   "cell_type": "code",
   "execution_count": 10,
   "id": "24adb7cb-07d2-46ba-a9e8-c9fdd7a597c7",
   "metadata": {},
   "outputs": [],
   "source": [
    "# A parameter grid for XGBoost\n",
    "params = {\n",
    "        'min_child_weight': [1, 5, 10],\n",
    "        'gamma': [0.5, 1, 1.5, 2, 5],\n",
    "        'subsample': [0.6, 0.8, 1.0],\n",
    "        'colsample_bytree': [0.6, 0.8, 1.0],\n",
    "        'max_depth': [3, 4, 5]\n",
    "}"
   ]
  },
  {
   "cell_type": "code",
   "execution_count": null,
   "id": "2d74bd7e-0f8b-4b10-b4f9-d38f8721934d",
   "metadata": {
    "tags": []
   },
   "outputs": [],
   "source": [
    "# Instantiation\n",
    "xgb = xg.XGBRegressor(learning_rate=0.02, objective ='reg:squarederror',\n",
    "                 n_estimators=600, seed = 123)\n",
    "\n",
    "folds = 3\n",
    "param_comb = 5\n",
    "\n",
    "kf = KFold(n_splits=folds, shuffle=True, random_state=123)\n",
    "\n",
    "param_grid = {'max_depth': [3, 4, 5, 6, 7],\n",
    "              'subsample': [0.6, 0.7, 0.8, 0.9, 1.0],\n",
    "              'colsample_bytree': [0.6, 0.7, 0.8, 0.9, 1.0],\n",
    "              'learning_rate': [0.01, 0.02, 0.05, 0.1, 0.2],\n",
    "              'n_estimators': [100, 500, 1000, 2000]}\n",
    "\n",
    "grid_search = GridSearchCV(estimator=xgb, param_grid=param_grid, scoring='neg_mean_squared_error', n_jobs=4, cv=kf, verbose=3)\n",
    "\n",
    "grid_search.fit(x, y)"
   ]
  },
  {
   "cell_type": "code",
   "execution_count": null,
   "id": "47c7ad98-2494-4907-896b-fd99f0466246",
   "metadata": {},
   "outputs": [],
   "source": [
    "print('\\n All results:')\n",
    "print(grid_search.cv_results_)\n",
    "print('\\n Best estimator:')\n",
    "print(grid_search.best_estimator_)\n",
    "print('\\n Best normalized gini score for %d-fold search with %d parameter combinations:' % (folds, param_comb))\n",
    "print(grid_search.best_score_ * 2 - 1)\n",
    "print('\\n Best hyperparameters:')\n",
    "print(grid_search.best_params_)\n",
    "results = pd.DataFrame(grid_search.cv_results_)\n",
    "results.to_csv('xgb-random-grid-search-results-01.csv', index=False)"
   ]
  },
  {
   "cell_type": "code",
   "execution_count": 106,
   "id": "acaf271d-9038-4cc1-b661-2e378783de1e",
   "metadata": {
    "tags": []
   },
   "outputs": [
    {
     "data": {
      "text/html": [
       "<style>#sk-container-id-5 {color: black;background-color: white;}#sk-container-id-5 pre{padding: 0;}#sk-container-id-5 div.sk-toggleable {background-color: white;}#sk-container-id-5 label.sk-toggleable__label {cursor: pointer;display: block;width: 100%;margin-bottom: 0;padding: 0.3em;box-sizing: border-box;text-align: center;}#sk-container-id-5 label.sk-toggleable__label-arrow:before {content: \"▸\";float: left;margin-right: 0.25em;color: #696969;}#sk-container-id-5 label.sk-toggleable__label-arrow:hover:before {color: black;}#sk-container-id-5 div.sk-estimator:hover label.sk-toggleable__label-arrow:before {color: black;}#sk-container-id-5 div.sk-toggleable__content {max-height: 0;max-width: 0;overflow: hidden;text-align: left;background-color: #f0f8ff;}#sk-container-id-5 div.sk-toggleable__content pre {margin: 0.2em;color: black;border-radius: 0.25em;background-color: #f0f8ff;}#sk-container-id-5 input.sk-toggleable__control:checked~div.sk-toggleable__content {max-height: 200px;max-width: 100%;overflow: auto;}#sk-container-id-5 input.sk-toggleable__control:checked~label.sk-toggleable__label-arrow:before {content: \"▾\";}#sk-container-id-5 div.sk-estimator input.sk-toggleable__control:checked~label.sk-toggleable__label {background-color: #d4ebff;}#sk-container-id-5 div.sk-label input.sk-toggleable__control:checked~label.sk-toggleable__label {background-color: #d4ebff;}#sk-container-id-5 input.sk-hidden--visually {border: 0;clip: rect(1px 1px 1px 1px);clip: rect(1px, 1px, 1px, 1px);height: 1px;margin: -1px;overflow: hidden;padding: 0;position: absolute;width: 1px;}#sk-container-id-5 div.sk-estimator {font-family: monospace;background-color: #f0f8ff;border: 1px dotted black;border-radius: 0.25em;box-sizing: border-box;margin-bottom: 0.5em;}#sk-container-id-5 div.sk-estimator:hover {background-color: #d4ebff;}#sk-container-id-5 div.sk-parallel-item::after {content: \"\";width: 100%;border-bottom: 1px solid gray;flex-grow: 1;}#sk-container-id-5 div.sk-label:hover label.sk-toggleable__label {background-color: #d4ebff;}#sk-container-id-5 div.sk-serial::before {content: \"\";position: absolute;border-left: 1px solid gray;box-sizing: border-box;top: 0;bottom: 0;left: 50%;z-index: 0;}#sk-container-id-5 div.sk-serial {display: flex;flex-direction: column;align-items: center;background-color: white;padding-right: 0.2em;padding-left: 0.2em;position: relative;}#sk-container-id-5 div.sk-item {position: relative;z-index: 1;}#sk-container-id-5 div.sk-parallel {display: flex;align-items: stretch;justify-content: center;background-color: white;position: relative;}#sk-container-id-5 div.sk-item::before, #sk-container-id-5 div.sk-parallel-item::before {content: \"\";position: absolute;border-left: 1px solid gray;box-sizing: border-box;top: 0;bottom: 0;left: 50%;z-index: -1;}#sk-container-id-5 div.sk-parallel-item {display: flex;flex-direction: column;z-index: 1;position: relative;background-color: white;}#sk-container-id-5 div.sk-parallel-item:first-child::after {align-self: flex-end;width: 50%;}#sk-container-id-5 div.sk-parallel-item:last-child::after {align-self: flex-start;width: 50%;}#sk-container-id-5 div.sk-parallel-item:only-child::after {width: 0;}#sk-container-id-5 div.sk-dashed-wrapped {border: 1px dashed gray;margin: 0 0.4em 0.5em 0.4em;box-sizing: border-box;padding-bottom: 0.4em;background-color: white;}#sk-container-id-5 div.sk-label label {font-family: monospace;font-weight: bold;display: inline-block;line-height: 1.2em;}#sk-container-id-5 div.sk-label-container {text-align: center;}#sk-container-id-5 div.sk-container {/* jupyter's `normalize.less` sets `[hidden] { display: none; }` but bootstrap.min.css set `[hidden] { display: none !important; }` so we also need the `!important` here to be able to override the default hidden behavior on the sphinx rendered scikit-learn.org. See: https://github.com/scikit-learn/scikit-learn/issues/21755 */display: inline-block !important;position: relative;}#sk-container-id-5 div.sk-text-repr-fallback {display: none;}</style><div id=\"sk-container-id-5\" class=\"sk-top-container\"><div class=\"sk-text-repr-fallback\"><pre>XGBRegressor(base_score=None, booster=None, callbacks=None,\n",
       "             colsample_bylevel=None, colsample_bynode=None,\n",
       "             colsample_bytree=None, early_stopping_rounds=None,\n",
       "             enable_categorical=False, eval_metric=None, feature_types=None,\n",
       "             gamma=None, gpu_id=None, grow_policy=None, importance_type=None,\n",
       "             interaction_constraints=None, learning_rate=None, max_bin=None,\n",
       "             max_cat_threshold=None, max_cat_to_onehot=None,\n",
       "             max_delta_step=None, max_depth=None, max_leaves=None,\n",
       "             min_child_weight=None, missing=nan, monotone_constraints=None,\n",
       "             n_estimators=10, n_jobs=None, num_parallel_tree=None,\n",
       "             predictor=None, random_state=None, ...)</pre><b>In a Jupyter environment, please rerun this cell to show the HTML representation or trust the notebook. <br />On GitHub, the HTML representation is unable to render, please try loading this page with nbviewer.org.</b></div><div class=\"sk-container\" hidden><div class=\"sk-item\"><div class=\"sk-estimator sk-toggleable\"><input class=\"sk-toggleable__control sk-hidden--visually\" id=\"sk-estimator-id-5\" type=\"checkbox\" checked><label for=\"sk-estimator-id-5\" class=\"sk-toggleable__label sk-toggleable__label-arrow\">XGBRegressor</label><div class=\"sk-toggleable__content\"><pre>XGBRegressor(base_score=None, booster=None, callbacks=None,\n",
       "             colsample_bylevel=None, colsample_bynode=None,\n",
       "             colsample_bytree=None, early_stopping_rounds=None,\n",
       "             enable_categorical=False, eval_metric=None, feature_types=None,\n",
       "             gamma=None, gpu_id=None, grow_policy=None, importance_type=None,\n",
       "             interaction_constraints=None, learning_rate=None, max_bin=None,\n",
       "             max_cat_threshold=None, max_cat_to_onehot=None,\n",
       "             max_delta_step=None, max_depth=None, max_leaves=None,\n",
       "             min_child_weight=None, missing=nan, monotone_constraints=None,\n",
       "             n_estimators=10, n_jobs=None, num_parallel_tree=None,\n",
       "             predictor=None, random_state=None, ...)</pre></div></div></div></div></div>"
      ],
      "text/plain": [
       "XGBRegressor(base_score=None, booster=None, callbacks=None,\n",
       "             colsample_bylevel=None, colsample_bynode=None,\n",
       "             colsample_bytree=None, early_stopping_rounds=None,\n",
       "             enable_categorical=False, eval_metric=None, feature_types=None,\n",
       "             gamma=None, gpu_id=None, grow_policy=None, importance_type=None,\n",
       "             interaction_constraints=None, learning_rate=None, max_bin=None,\n",
       "             max_cat_threshold=None, max_cat_to_onehot=None,\n",
       "             max_delta_step=None, max_depth=None, max_leaves=None,\n",
       "             min_child_weight=None, missing=nan, monotone_constraints=None,\n",
       "             n_estimators=10, n_jobs=None, num_parallel_tree=None,\n",
       "             predictor=None, random_state=None, ...)"
      ]
     },
     "execution_count": 106,
     "metadata": {},
     "output_type": "execute_result"
    }
   ],
   "source": [
    "# Fitting the model\n",
    "xgb_r.fit(train_X, train_y)"
   ]
  },
  {
   "cell_type": "code",
   "execution_count": 108,
   "id": "11bf7ea7-0781-4a39-9280-38813d18af0d",
   "metadata": {},
   "outputs": [],
   "source": [
    "# Predict the model\n",
    "pred = xgb_r.predict(test_X)\n",
    "  "
   ]
  },
  {
   "cell_type": "code",
   "execution_count": 109,
   "id": "307c5689-ece8-4051-8aec-d328023d9e8b",
   "metadata": {},
   "outputs": [
    {
     "name": "stdout",
     "output_type": "stream",
     "text": [
      "RMSE :  20.163214\n"
     ]
    },
    {
     "data": {
      "text/plain": [
       "<matplotlib.collections.PathCollection at 0x7f0b20b487c0>"
      ]
     },
     "execution_count": 109,
     "metadata": {},
     "output_type": "execute_result"
    },
    {
     "data": {
      "image/png": "[encoded data removed]",
      "text/plain": [
       "<Figure size 640x480 with 1 Axes>"
      ]
     },
     "metadata": {},
     "output_type": "display_data"
    }
   ],
   "source": [
    "# RMSE Computation\n",
    "rmse = np.sqrt(MSE(test_y, pred))\n",
    "print(\"RMSE : % f\" %(rmse))\n",
    "plt.scatter(test_y, pred)"
   ]
  },
  {
   "cell_type": "code",
   "execution_count": 78,
   "id": "4e64ffb8-cfb0-4f9d-8965-8d833c902523",
   "metadata": {},
   "outputs": [
    {
     "data": {
      "text/html": [
       "<div>\n",
       "<style scoped>\n",
       "    .dataframe tbody tr th:only-of-type {\n",
       "        vertical-align: middle;\n",
       "    }\n",
       "\n",
       "    .dataframe tbody tr th {\n",
       "        vertical-align: top;\n",
       "    }\n",
       "\n",
       "    .dataframe thead th {\n",
       "        text-align: right;\n",
       "    }\n",
       "</style>\n",
       "<table border=\"1\" class=\"dataframe\">\n",
       "  <thead>\n",
       "    <tr style=\"text-align: right;\">\n",
       "      <th></th>\n",
       "      <th>col_name</th>\n",
       "    </tr>\n",
       "  </thead>\n",
       "  <tbody>\n",
       "    <tr>\n",
       "      <th>ACTV_LYR</th>\n",
       "      <td>0.0</td>\n",
       "    </tr>\n",
       "    <tr>\n",
       "      <th>SOC_13</th>\n",
       "      <td>0.0</td>\n",
       "    </tr>\n",
       "    <tr>\n",
       "      <th>SOC_8</th>\n",
       "      <td>0.0</td>\n",
       "    </tr>\n",
       "    <tr>\n",
       "      <th>SOC_7</th>\n",
       "      <td>0.0</td>\n",
       "    </tr>\n",
       "    <tr>\n",
       "      <th>SOC_6</th>\n",
       "      <td>0.0</td>\n",
       "    </tr>\n",
       "    <tr>\n",
       "      <th>...</th>\n",
       "      <td>...</td>\n",
       "    </tr>\n",
       "    <tr>\n",
       "      <th>ICE_3</th>\n",
       "      <td>0.0</td>\n",
       "    </tr>\n",
       "    <tr>\n",
       "      <th>ICE_20</th>\n",
       "      <td>0.0</td>\n",
       "    </tr>\n",
       "    <tr>\n",
       "      <th>ICE_2</th>\n",
       "      <td>0.0</td>\n",
       "    </tr>\n",
       "    <tr>\n",
       "      <th>ICE_19</th>\n",
       "      <td>0.0</td>\n",
       "    </tr>\n",
       "    <tr>\n",
       "      <th>WTR_TBL</th>\n",
       "      <td>0.0</td>\n",
       "    </tr>\n",
       "  </tbody>\n",
       "</table>\n",
       "<p>336 rows × 1 columns</p>\n",
       "</div>"
      ],
      "text/plain": [
       "          col_name\n",
       "ACTV_LYR       0.0\n",
       "SOC_13         0.0\n",
       "SOC_8          0.0\n",
       "SOC_7          0.0\n",
       "SOC_6          0.0\n",
       "...            ...\n",
       "ICE_3          0.0\n",
       "ICE_20         0.0\n",
       "ICE_2          0.0\n",
       "ICE_19         0.0\n",
       "WTR_TBL        0.0\n",
       "\n",
       "[336 rows x 1 columns]"
      ]
     },
     "execution_count": 78,
     "metadata": {},
     "output_type": "execute_result"
    }
   ],
   "source": [
    "pd.DataFrame({'col_name': xgb_r.feature_importances_}, index=df.columns).sort_values(by='col_name', ascending=False)"
   ]
  },
  {
   "cell_type": "code",
   "execution_count": null,
   "id": "e1ea861e-70c9-46fb-8e44-51eb221f03d8",
   "metadata": {},
   "outputs": [],
   "source": []
  }
 ],
 "metadata": {
  "kernelspec": {
   "display_name": "Python 3 (ipykernel)",
   "language": "python",
   "name": "python3"
  },
  "language_info": {
   "codemirror_mode": {
    "name": "ipython",
    "version": 3
   },
   "file_extension": ".py",
   "mimetype": "text/x-python",
   "name": "python",
   "nbconvert_exporter": "python",
   "pygments_lexer": "ipython3",
   "version": "3.9.16"
  }
 },
 "nbformat": 4,
 "nbformat_minor": 5
}
